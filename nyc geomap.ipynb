{
 "cells": [
  {
   "cell_type": "markdown",
   "metadata": {},
   "source": [
    "#"
   ]
  },
  {
   "cell_type": "code",
   "execution_count": 10,
   "metadata": {
    "collapsed": false,
    "scrolled": true
   },
   "outputs": [],
   "source": [
    "import numpy as np \n",
    "from gmplot import gmplot\n",
    "import pandas as pd\n",
    "import os \n",
    "\n",
    "\n",
    "input_filename = 'C:\\\\Users\\\\User\\\\nyc taxi\\\\train.csv'\n",
    "\n",
    "data = pd.read_csv(input_filename)\n",
    "\n",
    "\n",
    "\n",
    "gmap = gmplot.GoogleMapPlotter(40, -73,15)\n",
    "\n",
    "\n",
    "train_sample = data.head(50000)\n",
    "\n",
    "train_sample[['pickup_latitude','pickup_longitude']] = train_sample[['pickup_latitude','pickup_longitude']].apply(pd.to_numeric)\n",
    "\n",
    "\n",
    "train_lat = tuple(list(train_sample.pickup_latitude.values))\n",
    "\n",
    "train_lon = tuple(list(train_sample.pickup_longitude.values))\n",
    "\n",
    "\n",
    "gmap.scatter(train_lat, train_lon, '#000000', size=30, marker=False)\n",
    "#gmap.heatmap(train_lat, train_lon,threshold=50, radius=25, opacity=10)\n",
    "\n",
    "\n",
    "\n",
    "gmap.draw(\"test_nyc_taxi_map.html\")"
   ]
  },
  {
   "cell_type": "code",
   "execution_count": 1,
   "metadata": {
    "collapsed": false
   },
   "outputs": [
    {
     "name": "stderr",
     "output_type": "stream",
     "text": [
      "C:\\Users\\User\\Anaconda2\\lib\\site-packages\\pandas\\core\\frame.py:2540: SettingWithCopyWarning: \n",
      "A value is trying to be set on a copy of a slice from a DataFrame.\n",
      "Try using .loc[row_indexer,col_indexer] = value instead\n",
      "\n",
      "See the caveats in the documentation: http://pandas.pydata.org/pandas-docs/stable/indexing.html#indexing-view-versus-copy\n",
      "  self[k1] = value[k2]\n"
     ]
    }
   ],
   "source": [
    "import numpy as np \n",
    "from gmplot import gmplot\n",
    "import pandas as pd\n",
    "import os \n",
    "\n",
    "\n",
    "input_filename = 'C:\\\\Users\\\\User\\\\nyc taxi\\\\test.csv'\n",
    "\n",
    "data = pd.read_csv(input_filename)\n",
    "\n",
    "\n",
    "\n",
    "gmap = gmplot.GoogleMapPlotter(40, -73,15)\n",
    "\n",
    "\n",
    "test_sample = data.head(50000)\n",
    "\n",
    "test_sample[['pickup_latitude','pickup_longitude']] = test_sample[['pickup_latitude','pickup_longitude']].apply(pd.to_numeric)\n",
    "\n",
    "\n",
    "test_lat = tuple(list(test_sample.pickup_latitude.values))\n",
    "\n",
    "test_lon = tuple(list(test_sample.pickup_longitude.values))\n",
    "\n",
    "\n",
    "gmap.scatter(test_lat, test_lon, '#000000', size=30, marker=False)\n",
    "#gmap.heatmap(train_lat, train_lon,threshold=50, radius=25, opacity=10)\n",
    "\n",
    "\n",
    "\n",
    "gmap.draw(\"test_taxi_map.html\")"
   ]
  },
  {
   "cell_type": "code",
   "execution_count": 3,
   "metadata": {
    "collapsed": true
   },
   "outputs": [],
   "source": [
    "import numpy as np \n",
    "from gmplot import gmplot\n",
    "import pandas as pd\n",
    "import os \n",
    "\n",
    "\n",
    "input_filename = 'C:\\\\Users\\\\User\\\\nyc taxi\\\\train_outliers_trip.csv'\n",
    "\n",
    "data = pd.read_csv(input_filename)\n",
    "\n",
    "\n",
    "\n",
    "gmap = gmplot.GoogleMapPlotter(40.9, -73,10)\n",
    "\n",
    "data[['pickup_latitude','pickup_longitude']] = data[['pickup_latitude','pickup_longitude']].apply(pd.to_numeric)\n",
    "\n",
    "\n",
    "pickup_lat = tuple(list(data.pickup_latitude.values))\n",
    "\n",
    "pickup_lon = tuple(list(data.pickup_longitude.values))\n",
    "\n",
    "\n",
    "gmap.scatter(pickup_lat, pickup_lon, '#000000', size=30, marker=False)\n",
    "\n",
    "\n",
    "data[['dropoff_latitude','dropoff_longitude']] = data[['dropoff_latitude','dropoff_longitude']].apply(pd.to_numeric)\n",
    "\n",
    "\n",
    "dropoff_lat = tuple(list(data.dropoff_latitude.values))\n",
    "\n",
    "dropoff_lon = tuple(list(data.dropoff_longitude.values))\n",
    "\n",
    "\n",
    "gmap.scatter(dropoff_lat, dropoff_lon, '#FF0000', size=30, marker=False)\n",
    "#gmap.heatmap(train_lat, train_lon,threshold=50, radius=25, opacity=10)\n",
    "\n",
    "\n",
    "\n",
    "gmap.draw(\"train_outliers_map.html\")"
   ]
  },
  {
   "cell_type": "code",
   "execution_count": null,
   "metadata": {
    "collapsed": true
   },
   "outputs": [],
   "source": []
  }
 ],
 "metadata": {
  "kernelspec": {
   "display_name": "Python 2",
   "language": "python",
   "name": "python2"
  },
  "language_info": {
   "codemirror_mode": {
    "name": "ipython",
    "version": 2
   },
   "file_extension": ".py",
   "mimetype": "text/x-python",
   "name": "python",
   "nbconvert_exporter": "python",
   "pygments_lexer": "ipython2",
   "version": "2.7.12"
  }
 },
 "nbformat": 4,
 "nbformat_minor": 2
}
